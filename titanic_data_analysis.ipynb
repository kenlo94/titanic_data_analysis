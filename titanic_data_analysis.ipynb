{
 "cells": [
  {
   "cell_type": "code",
   "execution_count": 37,
   "id": "d982ba4d",
   "metadata": {},
   "outputs": [],
   "source": [
    "# Import our dependencies\n",
    "import pandas as pd\n",
    "import matplotlib.pyplot as plt"
   ]
  },
  {
   "cell_type": "code",
   "execution_count": 38,
   "id": "8ee93d5b",
   "metadata": {},
   "outputs": [
    {
     "data": {
      "text/html": [
       "<div>\n",
       "<style scoped>\n",
       "    .dataframe tbody tr th:only-of-type {\n",
       "        vertical-align: middle;\n",
       "    }\n",
       "\n",
       "    .dataframe tbody tr th {\n",
       "        vertical-align: top;\n",
       "    }\n",
       "\n",
       "    .dataframe thead th {\n",
       "        text-align: right;\n",
       "    }\n",
       "</style>\n",
       "<table border=\"1\" class=\"dataframe\">\n",
       "  <thead>\n",
       "    <tr style=\"text-align: right;\">\n",
       "      <th></th>\n",
       "      <th>PassengerId</th>\n",
       "      <th>Survived</th>\n",
       "      <th>Pclass</th>\n",
       "      <th>Name</th>\n",
       "      <th>Sex</th>\n",
       "      <th>Age</th>\n",
       "      <th>SibSp</th>\n",
       "      <th>Parch</th>\n",
       "      <th>Ticket</th>\n",
       "      <th>Fare</th>\n",
       "      <th>Cabin</th>\n",
       "      <th>Embarked</th>\n",
       "    </tr>\n",
       "  </thead>\n",
       "  <tbody>\n",
       "    <tr>\n",
       "      <th>0</th>\n",
       "      <td>1</td>\n",
       "      <td>0</td>\n",
       "      <td>3</td>\n",
       "      <td>Braund, Mr. Owen Harris</td>\n",
       "      <td>male</td>\n",
       "      <td>22.0</td>\n",
       "      <td>1</td>\n",
       "      <td>0</td>\n",
       "      <td>A/5 21171</td>\n",
       "      <td>7.2500</td>\n",
       "      <td>NaN</td>\n",
       "      <td>S</td>\n",
       "    </tr>\n",
       "    <tr>\n",
       "      <th>1</th>\n",
       "      <td>2</td>\n",
       "      <td>1</td>\n",
       "      <td>1</td>\n",
       "      <td>Cumings, Mrs. John Bradley (Florence Briggs Th...</td>\n",
       "      <td>female</td>\n",
       "      <td>38.0</td>\n",
       "      <td>1</td>\n",
       "      <td>0</td>\n",
       "      <td>PC 17599</td>\n",
       "      <td>71.2833</td>\n",
       "      <td>C85</td>\n",
       "      <td>C</td>\n",
       "    </tr>\n",
       "    <tr>\n",
       "      <th>2</th>\n",
       "      <td>3</td>\n",
       "      <td>1</td>\n",
       "      <td>3</td>\n",
       "      <td>Heikkinen, Miss. Laina</td>\n",
       "      <td>female</td>\n",
       "      <td>26.0</td>\n",
       "      <td>0</td>\n",
       "      <td>0</td>\n",
       "      <td>STON/O2. 3101282</td>\n",
       "      <td>7.9250</td>\n",
       "      <td>NaN</td>\n",
       "      <td>S</td>\n",
       "    </tr>\n",
       "    <tr>\n",
       "      <th>3</th>\n",
       "      <td>4</td>\n",
       "      <td>1</td>\n",
       "      <td>1</td>\n",
       "      <td>Futrelle, Mrs. Jacques Heath (Lily May Peel)</td>\n",
       "      <td>female</td>\n",
       "      <td>35.0</td>\n",
       "      <td>1</td>\n",
       "      <td>0</td>\n",
       "      <td>113803</td>\n",
       "      <td>53.1000</td>\n",
       "      <td>C123</td>\n",
       "      <td>S</td>\n",
       "    </tr>\n",
       "    <tr>\n",
       "      <th>4</th>\n",
       "      <td>5</td>\n",
       "      <td>0</td>\n",
       "      <td>3</td>\n",
       "      <td>Allen, Mr. William Henry</td>\n",
       "      <td>male</td>\n",
       "      <td>35.0</td>\n",
       "      <td>0</td>\n",
       "      <td>0</td>\n",
       "      <td>373450</td>\n",
       "      <td>8.0500</td>\n",
       "      <td>NaN</td>\n",
       "      <td>S</td>\n",
       "    </tr>\n",
       "  </tbody>\n",
       "</table>\n",
       "</div>"
      ],
      "text/plain": [
       "   PassengerId  Survived  Pclass  \\\n",
       "0            1         0       3   \n",
       "1            2         1       1   \n",
       "2            3         1       3   \n",
       "3            4         1       1   \n",
       "4            5         0       3   \n",
       "\n",
       "                                                Name     Sex   Age  SibSp  \\\n",
       "0                            Braund, Mr. Owen Harris    male  22.0      1   \n",
       "1  Cumings, Mrs. John Bradley (Florence Briggs Th...  female  38.0      1   \n",
       "2                             Heikkinen, Miss. Laina  female  26.0      0   \n",
       "3       Futrelle, Mrs. Jacques Heath (Lily May Peel)  female  35.0      1   \n",
       "4                           Allen, Mr. William Henry    male  35.0      0   \n",
       "\n",
       "   Parch            Ticket     Fare Cabin Embarked  \n",
       "0      0         A/5 21171   7.2500   NaN        S  \n",
       "1      0          PC 17599  71.2833   C85        C  \n",
       "2      0  STON/O2. 3101282   7.9250   NaN        S  \n",
       "3      0            113803  53.1000  C123        S  \n",
       "4      0            373450   8.0500   NaN        S  "
      ]
     },
     "execution_count": 38,
     "metadata": {},
     "output_type": "execute_result"
    }
   ],
   "source": [
    "# Read in our csv file as a DataFrame\n",
    "titanic_df = pd.read_csv('train.csv')\n",
    "\n",
    "# Display the DataFrame for preview \n",
    "titanic_df.head()"
   ]
  },
  {
   "cell_type": "code",
   "execution_count": 39,
   "id": "c4c21b5b",
   "metadata": {},
   "outputs": [
    {
     "data": {
      "text/plain": [
       "891"
      ]
     },
     "execution_count": 39,
     "metadata": {},
     "output_type": "execute_result"
    }
   ],
   "source": [
    "# Check the number of passengers\n",
    "total_passengers=titanic_df[\"PassengerId\"].nunique()\n",
    "total_passengers"
   ]
  },
  {
   "cell_type": "code",
   "execution_count": 40,
   "id": "d886c187",
   "metadata": {},
   "outputs": [
    {
     "data": {
      "text/plain": [
       "0    549\n",
       "1    342\n",
       "Name: Survived, dtype: int64"
      ]
     },
     "execution_count": 40,
     "metadata": {},
     "output_type": "execute_result"
    }
   ],
   "source": [
    "# Calculate the number of passengers who survived and did not survive\n",
    "# 0 = did not survive\n",
    "# 1 = survived\n",
    "survival_counts = titanic_df.Survived.value_counts()\n",
    "survival_counts"
   ]
  },
  {
   "cell_type": "code",
   "execution_count": 65,
   "id": "c5a314f2",
   "metadata": {},
   "outputs": [
    {
     "data": {
      "image/png": "[encoded data removed]",
      "text/plain": [
       "<Figure size 432x288 with 1 Axes>"
      ]
     },
     "metadata": {},
     "output_type": "display_data"
    }
   ],
   "source": [
    "# Let us visualize that calculation as a percentage\n",
    "labels=['Did not survive', 'Survived']\n",
    "survival_counts.plot(kind='pie', labels=labels, autopct=\"%1.1f%%\")\n",
    "plt.title('Survival Status')\n",
    "plt.ylabel('')\n",
    "plt.savefig('Images/Image_1.PNG', facecolor='white')\n",
    "plt.show()"
   ]
  },
  {
   "cell_type": "code",
   "execution_count": 66,
   "id": "e541dafa",
   "metadata": {},
   "outputs": [
    {
     "data": {
      "image/png": "[encoded data removed]",
      "text/plain": [
       "<Figure size 432x288 with 1 Axes>"
      ]
     },
     "metadata": {
      "needs_background": "light"
     },
     "output_type": "display_data"
    }
   ],
   "source": [
    "# Let us visualize the age distribution amongst the 891 passengers\n",
    "plt.hist(titanic_df.Age, bins=20)\n",
    "plt.xlabel('Age')\n",
    "plt.ylabel('Counts')\n",
    "plt.savefig('Images/Image_2.PNG', facecolor='white')\n",
    "plt.show()"
   ]
  },
  {
   "cell_type": "code",
   "execution_count": 67,
   "id": "c8d1a064",
   "metadata": {},
   "outputs": [
    {
     "data": {
      "image/png": "[encoded data removed]",
      "text/plain": [
       "<Figure size 432x288 with 1 Axes>"
      ]
     },
     "metadata": {
      "needs_background": "light"
     },
     "output_type": "display_data"
    }
   ],
   "source": [
    "# Let's calculate survival rate for each age group\n",
    "# define age groups\n",
    "age_bins = [0, 18, 30, 50, 80]\n",
    "\n",
    "# define labels for age groups\n",
    "age_labels = ['0-18', '18-30', '30-50', '50-80']\n",
    "\n",
    "# add age group column\n",
    "titanic_df['AgeGroup'] = pd.cut(titanic_df['Age'], bins=age_bins, labels=age_labels)\n",
    "\n",
    "# calculate survival rate for each age group\n",
    "age_survival_rate = titanic_df.groupby('AgeGroup')['Survived'].mean()\n",
    "\n",
    "# Create a line chart to show the trend of survival rate over age groups\n",
    "plt.plot(age_labels, age_survival_rate, marker='o')\n",
    "\n",
    "# Add title and labels to the chart\n",
    "plt.title('Survival Rate by Age Group')\n",
    "plt.xlabel('Age Group')\n",
    "plt.ylabel('Survival Rate')\n",
    "\n",
    "plt.savefig('Images/Image_3.PNG', facecolor='white')\n",
    "\n",
    "# Show the chart\n",
    "plt.show()"
   ]
  },
  {
   "cell_type": "code",
   "execution_count": 68,
   "id": "810d27ab",
   "metadata": {},
   "outputs": [
    {
     "data": {
      "text/plain": [
       "AgeGroup\n",
       "0-18     0.503597\n",
       "18-30    0.355556\n",
       "30-50    0.423237\n",
       "50-80    0.343750\n",
       "Name: Survived, dtype: float64"
      ]
     },
     "execution_count": 68,
     "metadata": {},
     "output_type": "execute_result"
    }
   ],
   "source": [
    "age_survival_rate"
   ]
  },
  {
   "cell_type": "code",
   "execution_count": 69,
   "id": "e508e93f",
   "metadata": {},
   "outputs": [
    {
     "data": {
      "text/plain": [
       "male      577\n",
       "female    314\n",
       "Name: Sex, dtype: int64"
      ]
     },
     "execution_count": 69,
     "metadata": {},
     "output_type": "execute_result"
    }
   ],
   "source": [
    "# Calculate the gender ratio amongst the 891 passengers\n",
    "gender_counts = titanic_df.Sex.value_counts()\n",
    "gender_counts"
   ]
  },
  {
   "cell_type": "code",
   "execution_count": 70,
   "id": "14a07029",
   "metadata": {},
   "outputs": [
    {
     "data": {
      "image/png": "[encoded data removed]",
      "text/plain": [
       "<Figure size 432x288 with 1 Axes>"
      ]
     },
     "metadata": {},
     "output_type": "display_data"
    }
   ],
   "source": [
    "# Let us visualize that calculation as a percentage using a pie chart\n",
    "gender_counts.plot(kind=\"pie\", autopct=\"%1.1f%%\")\n",
    "\n",
    "# Add title and labels to the chart\n",
    "plt.title('Gender breakdown')\n",
    "plt.ylabel('')\n",
    "\n",
    "plt.savefig('Images/Image_4.PNG', facecolor='white')\n",
    "\n",
    "plt.show()"
   ]
  },
  {
   "cell_type": "code",
   "execution_count": 71,
   "id": "3f3d9844",
   "metadata": {},
   "outputs": [
    {
     "data": {
      "image/png": "[encoded data removed]",
      "text/plain": [
       "<Figure size 432x288 with 1 Axes>"
      ]
     },
     "metadata": {
      "needs_background": "light"
     },
     "output_type": "display_data"
    }
   ],
   "source": [
    "# Let's calculate the survival rate by gender\n",
    "gender_survival_rate = titanic_df.groupby('Sex')['Survived'].mean()\n",
    "\n",
    "# Create a bar chart to show the trend of survival rate over age groups\n",
    "plt.bar(gender_survival_rate.index.values, gender_survival_rate)\n",
    "\n",
    "# Add title and labels to the chart\n",
    "plt.title('Survival Rate by Gender')\n",
    "plt.xlabel('Gender')\n",
    "plt.ylabel('Survival Rate')\n",
    "\n",
    "plt.savefig('Images/Image_5.PNG', facecolor='white')\n",
    "\n",
    "# Show the chart\n",
    "plt.show()"
   ]
  },
  {
   "cell_type": "code",
   "execution_count": 72,
   "id": "cf5cbab1",
   "metadata": {},
   "outputs": [
    {
     "data": {
      "text/plain": [
       "Sex\n",
       "female    0.742038\n",
       "male      0.188908\n",
       "Name: Survived, dtype: float64"
      ]
     },
     "execution_count": 72,
     "metadata": {},
     "output_type": "execute_result"
    }
   ],
   "source": [
    "gender_survival_rate"
   ]
  },
  {
   "cell_type": "code",
   "execution_count": 73,
   "id": "2d7ce32d",
   "metadata": {},
   "outputs": [
    {
     "data": {
      "text/plain": [
       "3    491\n",
       "1    216\n",
       "2    184\n",
       "Name: Pclass, dtype: int64"
      ]
     },
     "execution_count": 73,
     "metadata": {},
     "output_type": "execute_result"
    }
   ],
   "source": [
    "# Calculate the count for each class amongst the 891 passengers\n",
    "class_counts = titanic_df.Pclass.value_counts()\n",
    "class_counts"
   ]
  },
  {
   "cell_type": "code",
   "execution_count": 74,
   "id": "8cf86d00",
   "metadata": {},
   "outputs": [
    {
     "data": {
      "image/png": "[encoded data removed]",
      "text/plain": [
       "<Figure size 432x288 with 1 Axes>"
      ]
     },
     "metadata": {},
     "output_type": "display_data"
    }
   ],
   "source": [
    "# Create a dictionary to map the original labels to new labels\n",
    "class_labels = {3: '3rd class', 2: '2nd class', 1: '1st class'}\n",
    "\n",
    "# Replace the labels using the map() method\n",
    "class_counts.index = class_counts.index.map(class_labels)\n",
    "\n",
    "# Create the pie chart with the new labels\n",
    "class_counts.plot(kind=\"pie\", autopct=\"%1.1f%%\", labels=class_counts.index)\n",
    "plt.title('Class breakdown')\n",
    "plt.ylabel('')\n",
    "\n",
    "plt.savefig('Images/Image_6.PNG', facecolor='white')\n",
    "\n",
    "plt.show()"
   ]
  },
  {
   "cell_type": "code",
   "execution_count": 75,
   "id": "6ac08354",
   "metadata": {},
   "outputs": [
    {
     "data": {
      "image/png": "[encoded data removed]",
      "text/plain": [
       "<Figure size 432x288 with 1 Axes>"
      ]
     },
     "metadata": {
      "needs_background": "light"
     },
     "output_type": "display_data"
    }
   ],
   "source": [
    "# Let's calculate the survival rate by class\n",
    "class_survival_rate = titanic_df.groupby('Pclass')['Survived'].mean()\n",
    "\n",
    "# Create a bar chart to show the trend of survival rate by class\n",
    "plt.bar(class_survival_rate.index.values, class_survival_rate)\n",
    "\n",
    "# Add title and labels to the chart\n",
    "plt.title('Survival Rate by Socio-economic Status')\n",
    "plt.xlabel('Socio-economic Status')\n",
    "plt.ylabel('Survival Rate')\n",
    "\n",
    "# Set the tick labels to display class labels\n",
    "plt.xticks(class_survival_rate.index.values, ['1st class', '2nd class', '3rd class'])\n",
    "\n",
    "plt.savefig('Images/Image_7.PNG', facecolor='white')\n",
    "\n",
    "# Show the chart\n",
    "plt.show()"
   ]
  },
  {
   "cell_type": "code",
   "execution_count": 76,
   "id": "07aa4d75",
   "metadata": {},
   "outputs": [
    {
     "data": {
      "text/plain": [
       "Pclass\n",
       "1    0.629630\n",
       "2    0.472826\n",
       "3    0.242363\n",
       "Name: Survived, dtype: float64"
      ]
     },
     "execution_count": 76,
     "metadata": {},
     "output_type": "execute_result"
    }
   ],
   "source": [
    "class_survival_rate"
   ]
  },
  {
   "cell_type": "code",
   "execution_count": 77,
   "id": "943ea4cd",
   "metadata": {},
   "outputs": [
    {
     "data": {
      "image/png": "[encoded data removed]",
      "text/plain": [
       "<Figure size 432x288 with 1 Axes>"
      ]
     },
     "metadata": {},
     "output_type": "display_data"
    }
   ],
   "source": [
    "# Calculate the number of passengers who had access to at least 1 cabin\n",
    "Cabin_counts = titanic_df.Cabin.count()\n",
    "Cabin_percentage = Cabin_counts/total_passengers*100\n",
    "Cabin_percentage = {\"Had Cabin\": 22.895622895622896,\n",
    "                   \"Did not have a cabin\": 100-22.895622895622896}\n",
    "labels = ['Had Cabin', 'Did not have a cabin']\n",
    "sizes = [Cabin_percentage['Had Cabin'], Cabin_percentage['Did not have a cabin']]\n",
    "colors = ['lightblue', 'lightgrey']\n",
    "explode = (0.1, 0)\n",
    "\n",
    "plt.pie(sizes, labels=labels, autopct='%1.1f%%')\n",
    "plt.axis('equal')  # Equal aspect ratio ensures that pie is drawn as a circle.\n",
    "plt.title('Percentage of Passengers with Access to at Least 1 Cabin')\n",
    "\n",
    "plt.savefig('Images/Image_8.PNG', facecolor='white')\n",
    "\n",
    "plt.show()"
   ]
  },
  {
   "cell_type": "code",
   "execution_count": 78,
   "id": "1e7f88cc",
   "metadata": {},
   "outputs": [
    {
     "data": {
      "image/png": "[encoded data removed]",
      "text/plain": [
       "<Figure size 432x288 with 1 Axes>"
      ]
     },
     "metadata": {
      "needs_background": "light"
     },
     "output_type": "display_data"
    }
   ],
   "source": [
    "# Let us determine if those who had access to a cabin had a higher survival rate\n",
    "# Create a new column called 'HasCabin'\n",
    "titanic_df['HasCabin'] = titanic_df['Cabin'].notna()\n",
    "\n",
    "# Group the data by the 'HasCabin' column and calculate the survival rate for each group\n",
    "survival_by_cabin = titanic_df.groupby('HasCabin')['Survived'].mean()\n",
    "\n",
    "# Visualize the survival rate by cabin status\n",
    "survival_by_cabin.plot(kind='bar')\n",
    "plt.title('Survival Rate by Cabin Status')\n",
    "plt.xlabel('Has Cabin')\n",
    "plt.ylabel('Survival Rate')\n",
    "\n",
    "plt.savefig('Images/Image_9.PNG', facecolor='white')\n",
    "\n",
    "plt.show()"
   ]
  },
  {
   "cell_type": "code",
   "execution_count": 79,
   "id": "614df334",
   "metadata": {},
   "outputs": [
    {
     "data": {
      "text/plain": [
       "HasCabin\n",
       "False    0.299854\n",
       "True     0.666667\n",
       "Name: Survived, dtype: float64"
      ]
     },
     "execution_count": 79,
     "metadata": {},
     "output_type": "execute_result"
    }
   ],
   "source": [
    "survival_by_cabin"
   ]
  },
  {
   "cell_type": "code",
   "execution_count": 80,
   "id": "59b35be8",
   "metadata": {},
   "outputs": [
    {
     "data": {
      "text/plain": [
       "1    176\n",
       "2     16\n",
       "3     12\n",
       "Name: Pclass, dtype: int64"
      ]
     },
     "execution_count": 80,
     "metadata": {},
     "output_type": "execute_result"
    }
   ],
   "source": [
    "# Let us breakdown cabin occupancy by socio-economic-status\n",
    "# Filter the dataset to include only passengers who had cabins\n",
    "cabin_df = titanic_df[titanic_df['Cabin'].notna()]\n",
    "\n",
    "# Calculate the number of passengers in each class who had cabins\n",
    "cabin_class_counts = cabin_df.Pclass.value_counts()\n",
    "cabin_class_counts"
   ]
  },
  {
   "cell_type": "code",
   "execution_count": 81,
   "id": "b1882119",
   "metadata": {},
   "outputs": [
    {
     "data": {
      "image/png": "[encoded data removed]",
      "text/plain": [
       "<Figure size 432x288 with 1 Axes>"
      ]
     },
     "metadata": {},
     "output_type": "display_data"
    }
   ],
   "source": [
    "# Let us visualize that calculation as a percentage\n",
    "labels = ['1st class', '2nd class', '3rd class']\n",
    "plt.pie(cabin_class_counts.values, labels=labels, autopct=\"%1.1f%%\")\n",
    "plt.title('Cabin by Class breakdown')\n",
    "\n",
    "plt.savefig('Images/Image_10.PNG', facecolor='white')\n",
    "\n",
    "plt.show()"
   ]
  },
  {
   "cell_type": "code",
   "execution_count": 82,
   "id": "619b2cb2",
   "metadata": {},
   "outputs": [
    {
     "data": {
      "text/plain": [
       "S    644\n",
       "C    168\n",
       "Q     77\n",
       "Name: Embarked, dtype: int64"
      ]
     },
     "execution_count": 82,
     "metadata": {},
     "output_type": "execute_result"
    }
   ],
   "source": [
    "# Let us breakdown the passengers by which port they embarked from\n",
    "Embarked_counts = titanic_df.Embarked.value_counts()\n",
    "Embarked_counts"
   ]
  },
  {
   "cell_type": "code",
   "execution_count": 83,
   "id": "36cd9081",
   "metadata": {},
   "outputs": [
    {
     "data": {
      "image/png": "[encoded data removed]",
      "text/plain": [
       "<Figure size 432x288 with 1 Axes>"
      ]
     },
     "metadata": {},
     "output_type": "display_data"
    }
   ],
   "source": [
    "# Let us visualize that calculation as a percentage\n",
    "labels = ['Southampton', 'Cherbourg', 'Queenstown']\n",
    "plt.pie(Embarked_counts.values, labels=labels, autopct=\"%1.1f%%\")\n",
    "\n",
    "plt.savefig('Images/Image_11.PNG', facecolor='white')\n",
    "\n",
    "plt.show()"
   ]
  },
  {
   "cell_type": "code",
   "execution_count": 84,
   "id": "9acd295d",
   "metadata": {},
   "outputs": [
    {
     "data": {
      "text/plain": [
       "Embarked\n",
       "C    0.553571\n",
       "Q    0.389610\n",
       "S    0.336957\n",
       "Name: Survived, dtype: float64"
      ]
     },
     "execution_count": 84,
     "metadata": {},
     "output_type": "execute_result"
    }
   ],
   "source": [
    "# Let us breakdown the survival rate by which port the passenger embarked from\n",
    "Embarked_survival_rate = titanic_df.groupby('Embarked')['Survived'].mean()\n",
    "Embarked_survival_rate"
   ]
  },
  {
   "cell_type": "code",
   "execution_count": 85,
   "id": "905628b4",
   "metadata": {},
   "outputs": [
    {
     "data": {
      "image/png": "[encoded data removed]",
      "text/plain": [
       "<Figure size 432x288 with 1 Axes>"
      ]
     },
     "metadata": {
      "needs_background": "light"
     },
     "output_type": "display_data"
    }
   ],
   "source": [
    "# Create a bar chart to show the trend of survival rate by port of embarkation\n",
    "plt.bar(Embarked_survival_rate.index.values, Embarked_survival_rate)\n",
    "\n",
    "# Add title and labels to the chart\n",
    "plt.title('Survival Rate by Port of Embarkation')\n",
    "plt.xlabel('Port of Embarkation')\n",
    "plt.ylabel('Survival Rate')\n",
    "\n",
    "# Set the tick labels to display Embarked labels\n",
    "plt.xticks(Embarked_survival_rate.index.values, ['Cherbourg', 'Queenstown', 'Southampton'])\n",
    "\n",
    "plt.savefig('Images/Image_12.PNG', facecolor='white')\n",
    "\n",
    "# Show the chart\n",
    "plt.show()"
   ]
  },
  {
   "cell_type": "code",
   "execution_count": null,
   "id": "24596147",
   "metadata": {},
   "outputs": [],
   "source": []
  }
 ],
 "metadata": {
  "kernelspec": {
   "display_name": "Python 3 (ipykernel)",
   "language": "python",
   "name": "python3"
  },
  "language_info": {
   "codemirror_mode": {
    "name": "ipython",
    "version": 3
   },
   "file_extension": ".py",
   "mimetype": "text/x-python",
   "name": "python",
   "nbconvert_exporter": "python",
   "pygments_lexer": "ipython3",
   "version": "3.9.7"
  }
 },
 "nbformat": 4,
 "nbformat_minor": 5
}
